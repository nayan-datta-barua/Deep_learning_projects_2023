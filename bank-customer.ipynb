{
 "cells": [
  {
   "cell_type": "code",
   "execution_count": 1,
   "id": "87bc6925",
   "metadata": {
    "_cell_guid": "b1076dfc-b9ad-4769-8c92-a6c4dae69d19",
    "_uuid": "8f2839f25d086af736a60e9eeb907d3b93b6e0e5",
    "execution": {
     "iopub.execute_input": "2023-04-23T10:21:24.052466Z",
     "iopub.status.busy": "2023-04-23T10:21:24.051540Z",
     "iopub.status.idle": "2023-04-23T10:21:24.071031Z",
     "shell.execute_reply": "2023-04-23T10:21:24.068770Z"
    },
    "papermill": {
     "duration": 0.029776,
     "end_time": "2023-04-23T10:21:24.073282",
     "exception": false,
     "start_time": "2023-04-23T10:21:24.043506",
     "status": "completed"
    },
    "tags": []
   },
   "outputs": [
    {
     "name": "stdout",
     "output_type": "stream",
     "text": [
      "/kaggle/input/bank-customer-churn-prediction/Churn_Modelling.csv\n"
     ]
    }
   ],
   "source": [
    "# This Python 3 environment comes with many helpful analytics libraries installed\n",
    "# It is defined by the kaggle/python Docker image: https://github.com/kaggle/docker-python\n",
    "# For example, here's several helpful packages to load\n",
    "\n",
    "import numpy as np # linear algebra\n",
    "import pandas as pd # data processing, CSV file I/O (e.g. pd.read_csv)\n",
    "\n",
    "# Input data files are available in the read-only \"../input/\" directory\n",
    "# For example, running this (by clicking run or pressing Shift+Enter) will list all files under the input directory\n",
    "\n",
    "import os\n",
    "for dirname, _, filenames in os.walk('/kaggle/input'):\n",
    "    for filename in filenames:\n",
    "        print(os.path.join(dirname, filename))\n",
    "\n",
    "# You can write up to 20GB to the current directory (/kaggle/working/) that gets preserved as output when you create a version using \"Save & Run All\" \n",
    "# You can also write temporary files to /kaggle/temp/, but they won't be saved outside of the current session"
   ]
  },
  {
   "cell_type": "code",
   "execution_count": 2,
   "id": "fdd2080d",
   "metadata": {
    "execution": {
     "iopub.execute_input": "2023-04-23T10:21:24.086675Z",
     "iopub.status.busy": "2023-04-23T10:21:24.086376Z",
     "iopub.status.idle": "2023-04-23T10:21:24.123903Z",
     "shell.execute_reply": "2023-04-23T10:21:24.122971Z"
    },
    "papermill": {
     "duration": 0.04643,
     "end_time": "2023-04-23T10:21:24.126178",
     "exception": false,
     "start_time": "2023-04-23T10:21:24.079748",
     "status": "completed"
    },
    "tags": []
   },
   "outputs": [],
   "source": [
    "df=pd.read_csv(\"/kaggle/input/bank-customer-churn-prediction/Churn_Modelling.csv\")"
   ]
  },
  {
   "cell_type": "code",
   "execution_count": 3,
   "id": "9e7b2332",
   "metadata": {
    "execution": {
     "iopub.execute_input": "2023-04-23T10:21:24.139034Z",
     "iopub.status.busy": "2023-04-23T10:21:24.138760Z",
     "iopub.status.idle": "2023-04-23T10:21:24.158153Z",
     "shell.execute_reply": "2023-04-23T10:21:24.156971Z"
    },
    "papermill": {
     "duration": 0.028776,
     "end_time": "2023-04-23T10:21:24.160870",
     "exception": false,
     "start_time": "2023-04-23T10:21:24.132094",
     "status": "completed"
    },
    "tags": []
   },
   "outputs": [
    {
     "data": {
      "text/html": [
       "<div>\n",
       "<style scoped>\n",
       "    .dataframe tbody tr th:only-of-type {\n",
       "        vertical-align: middle;\n",
       "    }\n",
       "\n",
       "    .dataframe tbody tr th {\n",
       "        vertical-align: top;\n",
       "    }\n",
       "\n",
       "    .dataframe thead th {\n",
       "        text-align: right;\n",
       "    }\n",
       "</style>\n",
       "<table border=\"1\" class=\"dataframe\">\n",
       "  <thead>\n",
       "    <tr style=\"text-align: right;\">\n",
       "      <th></th>\n",
       "      <th>RowNumber</th>\n",
       "      <th>CustomerId</th>\n",
       "      <th>Surname</th>\n",
       "      <th>CreditScore</th>\n",
       "      <th>Geography</th>\n",
       "      <th>Gender</th>\n",
       "      <th>Age</th>\n",
       "      <th>Tenure</th>\n",
       "      <th>Balance</th>\n",
       "      <th>NumOfProducts</th>\n",
       "      <th>HasCrCard</th>\n",
       "      <th>IsActiveMember</th>\n",
       "      <th>EstimatedSalary</th>\n",
       "      <th>Exited</th>\n",
       "    </tr>\n",
       "  </thead>\n",
       "  <tbody>\n",
       "    <tr>\n",
       "      <th>0</th>\n",
       "      <td>1</td>\n",
       "      <td>15634602</td>\n",
       "      <td>Hargrave</td>\n",
       "      <td>619</td>\n",
       "      <td>France</td>\n",
       "      <td>Female</td>\n",
       "      <td>42</td>\n",
       "      <td>2</td>\n",
       "      <td>0.00</td>\n",
       "      <td>1</td>\n",
       "      <td>1</td>\n",
       "      <td>1</td>\n",
       "      <td>101348.88</td>\n",
       "      <td>1</td>\n",
       "    </tr>\n",
       "    <tr>\n",
       "      <th>1</th>\n",
       "      <td>2</td>\n",
       "      <td>15647311</td>\n",
       "      <td>Hill</td>\n",
       "      <td>608</td>\n",
       "      <td>Spain</td>\n",
       "      <td>Female</td>\n",
       "      <td>41</td>\n",
       "      <td>1</td>\n",
       "      <td>83807.86</td>\n",
       "      <td>1</td>\n",
       "      <td>0</td>\n",
       "      <td>1</td>\n",
       "      <td>112542.58</td>\n",
       "      <td>0</td>\n",
       "    </tr>\n",
       "    <tr>\n",
       "      <th>2</th>\n",
       "      <td>3</td>\n",
       "      <td>15619304</td>\n",
       "      <td>Onio</td>\n",
       "      <td>502</td>\n",
       "      <td>France</td>\n",
       "      <td>Female</td>\n",
       "      <td>42</td>\n",
       "      <td>8</td>\n",
       "      <td>159660.80</td>\n",
       "      <td>3</td>\n",
       "      <td>1</td>\n",
       "      <td>0</td>\n",
       "      <td>113931.57</td>\n",
       "      <td>1</td>\n",
       "    </tr>\n",
       "    <tr>\n",
       "      <th>3</th>\n",
       "      <td>4</td>\n",
       "      <td>15701354</td>\n",
       "      <td>Boni</td>\n",
       "      <td>699</td>\n",
       "      <td>France</td>\n",
       "      <td>Female</td>\n",
       "      <td>39</td>\n",
       "      <td>1</td>\n",
       "      <td>0.00</td>\n",
       "      <td>2</td>\n",
       "      <td>0</td>\n",
       "      <td>0</td>\n",
       "      <td>93826.63</td>\n",
       "      <td>0</td>\n",
       "    </tr>\n",
       "    <tr>\n",
       "      <th>4</th>\n",
       "      <td>5</td>\n",
       "      <td>15737888</td>\n",
       "      <td>Mitchell</td>\n",
       "      <td>850</td>\n",
       "      <td>Spain</td>\n",
       "      <td>Female</td>\n",
       "      <td>43</td>\n",
       "      <td>2</td>\n",
       "      <td>125510.82</td>\n",
       "      <td>1</td>\n",
       "      <td>1</td>\n",
       "      <td>1</td>\n",
       "      <td>79084.10</td>\n",
       "      <td>0</td>\n",
       "    </tr>\n",
       "  </tbody>\n",
       "</table>\n",
       "</div>"
      ],
      "text/plain": [
       "   RowNumber  CustomerId   Surname  CreditScore Geography  Gender  Age  \\\n",
       "0          1    15634602  Hargrave          619    France  Female   42   \n",
       "1          2    15647311      Hill          608     Spain  Female   41   \n",
       "2          3    15619304      Onio          502    France  Female   42   \n",
       "3          4    15701354      Boni          699    France  Female   39   \n",
       "4          5    15737888  Mitchell          850     Spain  Female   43   \n",
       "\n",
       "   Tenure    Balance  NumOfProducts  HasCrCard  IsActiveMember  \\\n",
       "0       2       0.00              1          1               1   \n",
       "1       1   83807.86              1          0               1   \n",
       "2       8  159660.80              3          1               0   \n",
       "3       1       0.00              2          0               0   \n",
       "4       2  125510.82              1          1               1   \n",
       "\n",
       "   EstimatedSalary  Exited  \n",
       "0        101348.88       1  \n",
       "1        112542.58       0  \n",
       "2        113931.57       1  \n",
       "3         93826.63       0  \n",
       "4         79084.10       0  "
      ]
     },
     "execution_count": 3,
     "metadata": {},
     "output_type": "execute_result"
    }
   ],
   "source": [
    "df.head(5)"
   ]
  },
  {
   "cell_type": "code",
   "execution_count": 4,
   "id": "fe2dbbfc",
   "metadata": {
    "execution": {
     "iopub.execute_input": "2023-04-23T10:21:24.175050Z",
     "iopub.status.busy": "2023-04-23T10:21:24.174344Z",
     "iopub.status.idle": "2023-04-23T10:21:24.184960Z",
     "shell.execute_reply": "2023-04-23T10:21:24.183874Z"
    },
    "papermill": {
     "duration": 0.020194,
     "end_time": "2023-04-23T10:21:24.187205",
     "exception": false,
     "start_time": "2023-04-23T10:21:24.167011",
     "status": "completed"
    },
    "tags": []
   },
   "outputs": [
    {
     "data": {
      "text/plain": [
       "RowNumber          0\n",
       "CustomerId         0\n",
       "Surname            0\n",
       "CreditScore        0\n",
       "Geography          0\n",
       "Gender             0\n",
       "Age                0\n",
       "Tenure             0\n",
       "Balance            0\n",
       "NumOfProducts      0\n",
       "HasCrCard          0\n",
       "IsActiveMember     0\n",
       "EstimatedSalary    0\n",
       "Exited             0\n",
       "dtype: int64"
      ]
     },
     "execution_count": 4,
     "metadata": {},
     "output_type": "execute_result"
    }
   ],
   "source": [
    "df.isnull().sum()"
   ]
  },
  {
   "cell_type": "code",
   "execution_count": 5,
   "id": "771becb3",
   "metadata": {
    "execution": {
     "iopub.execute_input": "2023-04-23T10:21:24.200905Z",
     "iopub.status.busy": "2023-04-23T10:21:24.200636Z",
     "iopub.status.idle": "2023-04-23T10:21:24.223006Z",
     "shell.execute_reply": "2023-04-23T10:21:24.221842Z"
    },
    "papermill": {
     "duration": 0.031916,
     "end_time": "2023-04-23T10:21:24.225224",
     "exception": false,
     "start_time": "2023-04-23T10:21:24.193308",
     "status": "completed"
    },
    "tags": []
   },
   "outputs": [
    {
     "data": {
      "text/plain": [
       "0"
      ]
     },
     "execution_count": 5,
     "metadata": {},
     "output_type": "execute_result"
    }
   ],
   "source": [
    "df.duplicated().sum()"
   ]
  },
  {
   "cell_type": "code",
   "execution_count": 6,
   "id": "57135a25",
   "metadata": {
    "execution": {
     "iopub.execute_input": "2023-04-23T10:21:24.238754Z",
     "iopub.status.busy": "2023-04-23T10:21:24.238486Z",
     "iopub.status.idle": "2023-04-23T10:21:24.256745Z",
     "shell.execute_reply": "2023-04-23T10:21:24.255763Z"
    },
    "papermill": {
     "duration": 0.027567,
     "end_time": "2023-04-23T10:21:24.259054",
     "exception": false,
     "start_time": "2023-04-23T10:21:24.231487",
     "status": "completed"
    },
    "tags": []
   },
   "outputs": [
    {
     "name": "stdout",
     "output_type": "stream",
     "text": [
      "<class 'pandas.core.frame.DataFrame'>\n",
      "RangeIndex: 10000 entries, 0 to 9999\n",
      "Data columns (total 14 columns):\n",
      " #   Column           Non-Null Count  Dtype  \n",
      "---  ------           --------------  -----  \n",
      " 0   RowNumber        10000 non-null  int64  \n",
      " 1   CustomerId       10000 non-null  int64  \n",
      " 2   Surname          10000 non-null  object \n",
      " 3   CreditScore      10000 non-null  int64  \n",
      " 4   Geography        10000 non-null  object \n",
      " 5   Gender           10000 non-null  object \n",
      " 6   Age              10000 non-null  int64  \n",
      " 7   Tenure           10000 non-null  int64  \n",
      " 8   Balance          10000 non-null  float64\n",
      " 9   NumOfProducts    10000 non-null  int64  \n",
      " 10  HasCrCard        10000 non-null  int64  \n",
      " 11  IsActiveMember   10000 non-null  int64  \n",
      " 12  EstimatedSalary  10000 non-null  float64\n",
      " 13  Exited           10000 non-null  int64  \n",
      "dtypes: float64(2), int64(9), object(3)\n",
      "memory usage: 1.1+ MB\n"
     ]
    }
   ],
   "source": [
    "df.info()"
   ]
  },
  {
   "cell_type": "code",
   "execution_count": 7,
   "id": "58290c59",
   "metadata": {
    "execution": {
     "iopub.execute_input": "2023-04-23T10:21:24.273299Z",
     "iopub.status.busy": "2023-04-23T10:21:24.273034Z",
     "iopub.status.idle": "2023-04-23T10:21:24.279235Z",
     "shell.execute_reply": "2023-04-23T10:21:24.278148Z"
    },
    "papermill": {
     "duration": 0.016331,
     "end_time": "2023-04-23T10:21:24.281842",
     "exception": false,
     "start_time": "2023-04-23T10:21:24.265511",
     "status": "completed"
    },
    "tags": []
   },
   "outputs": [],
   "source": [
    "df=df.drop(columns=['RowNumber','CustomerId','Surname'],)"
   ]
  },
  {
   "cell_type": "code",
   "execution_count": 8,
   "id": "2c3b2f14",
   "metadata": {
    "execution": {
     "iopub.execute_input": "2023-04-23T10:21:24.296476Z",
     "iopub.status.busy": "2023-04-23T10:21:24.296186Z",
     "iopub.status.idle": "2023-04-23T10:21:24.309323Z",
     "shell.execute_reply": "2023-04-23T10:21:24.308182Z"
    },
    "papermill": {
     "duration": 0.022388,
     "end_time": "2023-04-23T10:21:24.311486",
     "exception": false,
     "start_time": "2023-04-23T10:21:24.289098",
     "status": "completed"
    },
    "tags": []
   },
   "outputs": [
    {
     "data": {
      "text/html": [
       "<div>\n",
       "<style scoped>\n",
       "    .dataframe tbody tr th:only-of-type {\n",
       "        vertical-align: middle;\n",
       "    }\n",
       "\n",
       "    .dataframe tbody tr th {\n",
       "        vertical-align: top;\n",
       "    }\n",
       "\n",
       "    .dataframe thead th {\n",
       "        text-align: right;\n",
       "    }\n",
       "</style>\n",
       "<table border=\"1\" class=\"dataframe\">\n",
       "  <thead>\n",
       "    <tr style=\"text-align: right;\">\n",
       "      <th></th>\n",
       "      <th>CreditScore</th>\n",
       "      <th>Geography</th>\n",
       "      <th>Gender</th>\n",
       "      <th>Age</th>\n",
       "      <th>Tenure</th>\n",
       "      <th>Balance</th>\n",
       "      <th>NumOfProducts</th>\n",
       "      <th>HasCrCard</th>\n",
       "      <th>IsActiveMember</th>\n",
       "      <th>EstimatedSalary</th>\n",
       "      <th>Exited</th>\n",
       "    </tr>\n",
       "  </thead>\n",
       "  <tbody>\n",
       "    <tr>\n",
       "      <th>0</th>\n",
       "      <td>619</td>\n",
       "      <td>France</td>\n",
       "      <td>Female</td>\n",
       "      <td>42</td>\n",
       "      <td>2</td>\n",
       "      <td>0.00</td>\n",
       "      <td>1</td>\n",
       "      <td>1</td>\n",
       "      <td>1</td>\n",
       "      <td>101348.88</td>\n",
       "      <td>1</td>\n",
       "    </tr>\n",
       "    <tr>\n",
       "      <th>1</th>\n",
       "      <td>608</td>\n",
       "      <td>Spain</td>\n",
       "      <td>Female</td>\n",
       "      <td>41</td>\n",
       "      <td>1</td>\n",
       "      <td>83807.86</td>\n",
       "      <td>1</td>\n",
       "      <td>0</td>\n",
       "      <td>1</td>\n",
       "      <td>112542.58</td>\n",
       "      <td>0</td>\n",
       "    </tr>\n",
       "    <tr>\n",
       "      <th>2</th>\n",
       "      <td>502</td>\n",
       "      <td>France</td>\n",
       "      <td>Female</td>\n",
       "      <td>42</td>\n",
       "      <td>8</td>\n",
       "      <td>159660.80</td>\n",
       "      <td>3</td>\n",
       "      <td>1</td>\n",
       "      <td>0</td>\n",
       "      <td>113931.57</td>\n",
       "      <td>1</td>\n",
       "    </tr>\n",
       "    <tr>\n",
       "      <th>3</th>\n",
       "      <td>699</td>\n",
       "      <td>France</td>\n",
       "      <td>Female</td>\n",
       "      <td>39</td>\n",
       "      <td>1</td>\n",
       "      <td>0.00</td>\n",
       "      <td>2</td>\n",
       "      <td>0</td>\n",
       "      <td>0</td>\n",
       "      <td>93826.63</td>\n",
       "      <td>0</td>\n",
       "    </tr>\n",
       "    <tr>\n",
       "      <th>4</th>\n",
       "      <td>850</td>\n",
       "      <td>Spain</td>\n",
       "      <td>Female</td>\n",
       "      <td>43</td>\n",
       "      <td>2</td>\n",
       "      <td>125510.82</td>\n",
       "      <td>1</td>\n",
       "      <td>1</td>\n",
       "      <td>1</td>\n",
       "      <td>79084.10</td>\n",
       "      <td>0</td>\n",
       "    </tr>\n",
       "    <tr>\n",
       "      <th>5</th>\n",
       "      <td>645</td>\n",
       "      <td>Spain</td>\n",
       "      <td>Male</td>\n",
       "      <td>44</td>\n",
       "      <td>8</td>\n",
       "      <td>113755.78</td>\n",
       "      <td>2</td>\n",
       "      <td>1</td>\n",
       "      <td>0</td>\n",
       "      <td>149756.71</td>\n",
       "      <td>1</td>\n",
       "    </tr>\n",
       "  </tbody>\n",
       "</table>\n",
       "</div>"
      ],
      "text/plain": [
       "   CreditScore Geography  Gender  Age  Tenure    Balance  NumOfProducts  \\\n",
       "0          619    France  Female   42       2       0.00              1   \n",
       "1          608     Spain  Female   41       1   83807.86              1   \n",
       "2          502    France  Female   42       8  159660.80              3   \n",
       "3          699    France  Female   39       1       0.00              2   \n",
       "4          850     Spain  Female   43       2  125510.82              1   \n",
       "5          645     Spain    Male   44       8  113755.78              2   \n",
       "\n",
       "   HasCrCard  IsActiveMember  EstimatedSalary  Exited  \n",
       "0          1               1        101348.88       1  \n",
       "1          0               1        112542.58       0  \n",
       "2          1               0        113931.57       1  \n",
       "3          0               0         93826.63       0  \n",
       "4          1               1         79084.10       0  \n",
       "5          1               0        149756.71       1  "
      ]
     },
     "execution_count": 8,
     "metadata": {},
     "output_type": "execute_result"
    }
   ],
   "source": [
    "df.head(6)"
   ]
  },
  {
   "cell_type": "code",
   "execution_count": 9,
   "id": "b8168a7d",
   "metadata": {
    "execution": {
     "iopub.execute_input": "2023-04-23T10:21:24.326011Z",
     "iopub.status.busy": "2023-04-23T10:21:24.325301Z",
     "iopub.status.idle": "2023-04-23T10:21:24.338194Z",
     "shell.execute_reply": "2023-04-23T10:21:24.337321Z"
    },
    "papermill": {
     "duration": 0.022364,
     "end_time": "2023-04-23T10:21:24.340344",
     "exception": false,
     "start_time": "2023-04-23T10:21:24.317980",
     "status": "completed"
    },
    "tags": []
   },
   "outputs": [],
   "source": [
    "df=pd.get_dummies(df,['Geography','Gender'],drop_first=True)"
   ]
  },
  {
   "cell_type": "code",
   "execution_count": 10,
   "id": "48e3c06c",
   "metadata": {
    "execution": {
     "iopub.execute_input": "2023-04-23T10:21:24.354923Z",
     "iopub.status.busy": "2023-04-23T10:21:24.354132Z",
     "iopub.status.idle": "2023-04-23T10:21:25.217686Z",
     "shell.execute_reply": "2023-04-23T10:21:25.216524Z"
    },
    "papermill": {
     "duration": 0.873446,
     "end_time": "2023-04-23T10:21:25.220325",
     "exception": false,
     "start_time": "2023-04-23T10:21:24.346879",
     "status": "completed"
    },
    "tags": []
   },
   "outputs": [],
   "source": [
    "from sklearn.model_selection import train_test_split\n",
    "X=df.drop(columns=['Exited'])\n",
    "y=df['Exited']\n",
    "x_train,x_test,y_train,y_test =train_test_split(X,y,test_size=0.2,random_state=1)"
   ]
  },
  {
   "cell_type": "code",
   "execution_count": 11,
   "id": "1bbd79a5",
   "metadata": {
    "execution": {
     "iopub.execute_input": "2023-04-23T10:21:25.235178Z",
     "iopub.status.busy": "2023-04-23T10:21:25.234880Z",
     "iopub.status.idle": "2023-04-23T10:21:25.240863Z",
     "shell.execute_reply": "2023-04-23T10:21:25.239445Z"
    },
    "papermill": {
     "duration": 0.015852,
     "end_time": "2023-04-23T10:21:25.243043",
     "exception": false,
     "start_time": "2023-04-23T10:21:25.227191",
     "status": "completed"
    },
    "tags": []
   },
   "outputs": [
    {
     "name": "stdout",
     "output_type": "stream",
     "text": [
      "(10000, 11)\n",
      "(10000,)\n",
      "(8000, 11)\n",
      "(8000,)\n"
     ]
    }
   ],
   "source": [
    "print(X.shape)\n",
    "print(y.shape)\n",
    "print(x_train.shape)\n",
    "\n",
    "print(y_train.shape)"
   ]
  },
  {
   "cell_type": "code",
   "execution_count": 12,
   "id": "0da2e2fa",
   "metadata": {
    "execution": {
     "iopub.execute_input": "2023-04-23T10:21:25.257314Z",
     "iopub.status.busy": "2023-04-23T10:21:25.257039Z",
     "iopub.status.idle": "2023-04-23T10:21:25.270142Z",
     "shell.execute_reply": "2023-04-23T10:21:25.269253Z"
    },
    "papermill": {
     "duration": 0.022831,
     "end_time": "2023-04-23T10:21:25.272310",
     "exception": false,
     "start_time": "2023-04-23T10:21:25.249479",
     "status": "completed"
    },
    "tags": []
   },
   "outputs": [],
   "source": [
    "from sklearn.preprocessing import StandardScaler\n",
    "scaler = StandardScaler()\n",
    "# fit and transform the data\n",
    "x_train_scaled = scaler.fit_transform(x_train)\n",
    "x_test_scaled =scaler.fit_transform(x_test)"
   ]
  },
  {
   "cell_type": "code",
   "execution_count": 13,
   "id": "47254fa9",
   "metadata": {
    "execution": {
     "iopub.execute_input": "2023-04-23T10:21:25.286372Z",
     "iopub.status.busy": "2023-04-23T10:21:25.286101Z",
     "iopub.status.idle": "2023-04-23T10:21:25.292319Z",
     "shell.execute_reply": "2023-04-23T10:21:25.291347Z"
    },
    "papermill": {
     "duration": 0.015696,
     "end_time": "2023-04-23T10:21:25.294485",
     "exception": false,
     "start_time": "2023-04-23T10:21:25.278789",
     "status": "completed"
    },
    "tags": []
   },
   "outputs": [
    {
     "data": {
      "text/plain": [
       "array([-0.23082038, -0.94449979, -0.70174202,  0.58817274,  0.80225696,\n",
       "       -1.55337352,  0.97725852,  0.42739449,  1.71490137, -0.57273139,\n",
       "        0.91509065])"
      ]
     },
     "execution_count": 13,
     "metadata": {},
     "output_type": "execute_result"
    }
   ],
   "source": [
    "x_train_scaled[0]"
   ]
  },
  {
   "cell_type": "code",
   "execution_count": 14,
   "id": "923193f7",
   "metadata": {
    "execution": {
     "iopub.execute_input": "2023-04-23T10:21:25.308751Z",
     "iopub.status.busy": "2023-04-23T10:21:25.308483Z",
     "iopub.status.idle": "2023-04-23T10:21:32.180525Z",
     "shell.execute_reply": "2023-04-23T10:21:32.179408Z"
    },
    "papermill": {
     "duration": 6.882087,
     "end_time": "2023-04-23T10:21:32.183197",
     "exception": false,
     "start_time": "2023-04-23T10:21:25.301110",
     "status": "completed"
    },
    "tags": []
   },
   "outputs": [],
   "source": [
    "import tensorflow as tf\n",
    "from tensorflow import keras\n",
    "from tensorflow.keras import Sequential\n",
    "from tensorflow.keras.layers import Dense\n"
   ]
  },
  {
   "cell_type": "code",
   "execution_count": 15,
   "id": "03fd822b",
   "metadata": {
    "execution": {
     "iopub.execute_input": "2023-04-23T10:21:32.200049Z",
     "iopub.status.busy": "2023-04-23T10:21:32.198611Z",
     "iopub.status.idle": "2023-04-23T10:21:34.860361Z",
     "shell.execute_reply": "2023-04-23T10:21:34.859343Z"
    },
    "papermill": {
     "duration": 2.672767,
     "end_time": "2023-04-23T10:21:34.863088",
     "exception": false,
     "start_time": "2023-04-23T10:21:32.190321",
     "status": "completed"
    },
    "tags": []
   },
   "outputs": [],
   "source": [
    "model =Sequential()"
   ]
  },
  {
   "cell_type": "code",
   "execution_count": 16,
   "id": "8b60177a",
   "metadata": {
    "execution": {
     "iopub.execute_input": "2023-04-23T10:21:34.879599Z",
     "iopub.status.busy": "2023-04-23T10:21:34.878088Z",
     "iopub.status.idle": "2023-04-23T10:21:35.119088Z",
     "shell.execute_reply": "2023-04-23T10:21:35.118112Z"
    },
    "papermill": {
     "duration": 0.251588,
     "end_time": "2023-04-23T10:21:35.121593",
     "exception": false,
     "start_time": "2023-04-23T10:21:34.870005",
     "status": "completed"
    },
    "tags": []
   },
   "outputs": [],
   "source": [
    "model.add(Dense(3,activation='sigmoid',input_dim=11))\n",
    "model.add(Dense(1,activation='sigmoid'))"
   ]
  },
  {
   "cell_type": "code",
   "execution_count": 17,
   "id": "931fa00f",
   "metadata": {
    "execution": {
     "iopub.execute_input": "2023-04-23T10:21:35.137450Z",
     "iopub.status.busy": "2023-04-23T10:21:35.136565Z",
     "iopub.status.idle": "2023-04-23T10:21:35.155114Z",
     "shell.execute_reply": "2023-04-23T10:21:35.154275Z"
    },
    "papermill": {
     "duration": 0.034155,
     "end_time": "2023-04-23T10:21:35.162831",
     "exception": false,
     "start_time": "2023-04-23T10:21:35.128676",
     "status": "completed"
    },
    "tags": []
   },
   "outputs": [
    {
     "name": "stdout",
     "output_type": "stream",
     "text": [
      "Model: \"sequential\"\n",
      "_________________________________________________________________\n",
      " Layer (type)                Output Shape              Param #   \n",
      "=================================================================\n",
      " dense (Dense)               (None, 3)                 36        \n",
      "                                                                 \n",
      " dense_1 (Dense)             (None, 1)                 4         \n",
      "                                                                 \n",
      "=================================================================\n",
      "Total params: 40\n",
      "Trainable params: 40\n",
      "Non-trainable params: 0\n",
      "_________________________________________________________________\n"
     ]
    }
   ],
   "source": [
    "model.summary()"
   ]
  },
  {
   "cell_type": "code",
   "execution_count": 18,
   "id": "7b182e98",
   "metadata": {
    "execution": {
     "iopub.execute_input": "2023-04-23T10:21:35.178856Z",
     "iopub.status.busy": "2023-04-23T10:21:35.178393Z",
     "iopub.status.idle": "2023-04-23T10:21:35.194638Z",
     "shell.execute_reply": "2023-04-23T10:21:35.193688Z"
    },
    "papermill": {
     "duration": 0.026671,
     "end_time": "2023-04-23T10:21:35.196653",
     "exception": false,
     "start_time": "2023-04-23T10:21:35.169982",
     "status": "completed"
    },
    "tags": []
   },
   "outputs": [],
   "source": [
    "\n",
    "from keras.api._v2.keras import metrics\n",
    "model.compile(loss=tf.keras.losses.BinaryCrossentropy(\n",
    "    from_logits=False,\n",
    "    label_smoothing=0.0,\n",
    "    axis=-1,\n",
    "#     reduction=losses_utils.ReductionV2.AUTO,\n",
    "    name='binary_crossentropy'\n",
    "),optimizer='adam',metrics=['accuracy'])"
   ]
  },
  {
   "cell_type": "code",
   "execution_count": 19,
   "id": "c208d94d",
   "metadata": {
    "execution": {
     "iopub.execute_input": "2023-04-23T10:21:35.212195Z",
     "iopub.status.busy": "2023-04-23T10:21:35.211925Z",
     "iopub.status.idle": "2023-04-23T10:22:16.863451Z",
     "shell.execute_reply": "2023-04-23T10:22:16.862097Z"
    },
    "papermill": {
     "duration": 41.662279,
     "end_time": "2023-04-23T10:22:16.866056",
     "exception": false,
     "start_time": "2023-04-23T10:21:35.203777",
     "status": "completed"
    },
    "tags": []
   },
   "outputs": [
    {
     "name": "stdout",
     "output_type": "stream",
     "text": [
      "Epoch 1/50\n",
      "200/200 [==============================] - 5s 5ms/step - loss: 0.5655 - accuracy: 0.7972 - val_loss: 0.5293 - val_accuracy: 0.7975\n",
      "Epoch 2/50\n",
      "200/200 [==============================] - 1s 3ms/step - loss: 0.5100 - accuracy: 0.7972 - val_loss: 0.4937 - val_accuracy: 0.7975\n",
      "Epoch 3/50\n",
      "200/200 [==============================] - 1s 3ms/step - loss: 0.4831 - accuracy: 0.7972 - val_loss: 0.4761 - val_accuracy: 0.7975\n",
      "Epoch 4/50\n",
      "200/200 [==============================] - 1s 3ms/step - loss: 0.4690 - accuracy: 0.7972 - val_loss: 0.4661 - val_accuracy: 0.7975\n",
      "Epoch 5/50\n",
      "200/200 [==============================] - 1s 3ms/step - loss: 0.4597 - accuracy: 0.7972 - val_loss: 0.4589 - val_accuracy: 0.7975\n",
      "Epoch 6/50\n",
      "200/200 [==============================] - 1s 3ms/step - loss: 0.4528 - accuracy: 0.7972 - val_loss: 0.4532 - val_accuracy: 0.7975\n",
      "Epoch 7/50\n",
      "200/200 [==============================] - 1s 3ms/step - loss: 0.4472 - accuracy: 0.7972 - val_loss: 0.4485 - val_accuracy: 0.7975\n",
      "Epoch 8/50\n",
      "200/200 [==============================] - 1s 3ms/step - loss: 0.4427 - accuracy: 0.7972 - val_loss: 0.4449 - val_accuracy: 0.7975\n",
      "Epoch 9/50\n",
      "200/200 [==============================] - 1s 3ms/step - loss: 0.4391 - accuracy: 0.7972 - val_loss: 0.4418 - val_accuracy: 0.7975\n",
      "Epoch 10/50\n",
      "200/200 [==============================] - 1s 3ms/step - loss: 0.4360 - accuracy: 0.7972 - val_loss: 0.4392 - val_accuracy: 0.7975\n",
      "Epoch 11/50\n",
      "200/200 [==============================] - 1s 4ms/step - loss: 0.4336 - accuracy: 0.7972 - val_loss: 0.4370 - val_accuracy: 0.7975\n",
      "Epoch 12/50\n",
      "200/200 [==============================] - 1s 3ms/step - loss: 0.4315 - accuracy: 0.7972 - val_loss: 0.4353 - val_accuracy: 0.7975\n",
      "Epoch 13/50\n",
      "200/200 [==============================] - 1s 3ms/step - loss: 0.4298 - accuracy: 0.7972 - val_loss: 0.4339 - val_accuracy: 0.7975\n",
      "Epoch 14/50\n",
      "200/200 [==============================] - 1s 3ms/step - loss: 0.4284 - accuracy: 0.7972 - val_loss: 0.4325 - val_accuracy: 0.7975\n",
      "Epoch 15/50\n",
      "200/200 [==============================] - 1s 3ms/step - loss: 0.4272 - accuracy: 0.7973 - val_loss: 0.4315 - val_accuracy: 0.7994\n",
      "Epoch 16/50\n",
      "200/200 [==============================] - 1s 3ms/step - loss: 0.4262 - accuracy: 0.8000 - val_loss: 0.4307 - val_accuracy: 0.8050\n",
      "Epoch 17/50\n",
      "200/200 [==============================] - 1s 3ms/step - loss: 0.4254 - accuracy: 0.8033 - val_loss: 0.4299 - val_accuracy: 0.8050\n",
      "Epoch 18/50\n",
      "200/200 [==============================] - 1s 3ms/step - loss: 0.4246 - accuracy: 0.8056 - val_loss: 0.4292 - val_accuracy: 0.8075\n",
      "Epoch 19/50\n",
      "200/200 [==============================] - 1s 3ms/step - loss: 0.4239 - accuracy: 0.8091 - val_loss: 0.4286 - val_accuracy: 0.8094\n",
      "Epoch 20/50\n",
      "200/200 [==============================] - 1s 3ms/step - loss: 0.4233 - accuracy: 0.8094 - val_loss: 0.4281 - val_accuracy: 0.8100\n",
      "Epoch 21/50\n",
      "200/200 [==============================] - 1s 3ms/step - loss: 0.4227 - accuracy: 0.8138 - val_loss: 0.4276 - val_accuracy: 0.8106\n",
      "Epoch 22/50\n",
      "200/200 [==============================] - 1s 3ms/step - loss: 0.4220 - accuracy: 0.8142 - val_loss: 0.4270 - val_accuracy: 0.8125\n",
      "Epoch 23/50\n",
      "200/200 [==============================] - 1s 3ms/step - loss: 0.4215 - accuracy: 0.8150 - val_loss: 0.4265 - val_accuracy: 0.8125\n",
      "Epoch 24/50\n",
      "200/200 [==============================] - 1s 3ms/step - loss: 0.4209 - accuracy: 0.8159 - val_loss: 0.4258 - val_accuracy: 0.8138\n",
      "Epoch 25/50\n",
      "200/200 [==============================] - 1s 3ms/step - loss: 0.4202 - accuracy: 0.8191 - val_loss: 0.4252 - val_accuracy: 0.8144\n",
      "Epoch 26/50\n",
      "200/200 [==============================] - 1s 3ms/step - loss: 0.4196 - accuracy: 0.8205 - val_loss: 0.4247 - val_accuracy: 0.8144\n",
      "Epoch 27/50\n",
      "200/200 [==============================] - 1s 3ms/step - loss: 0.4190 - accuracy: 0.8209 - val_loss: 0.4241 - val_accuracy: 0.8138\n",
      "Epoch 28/50\n",
      "200/200 [==============================] - 1s 3ms/step - loss: 0.4185 - accuracy: 0.8211 - val_loss: 0.4234 - val_accuracy: 0.8150\n",
      "Epoch 29/50\n",
      "200/200 [==============================] - 1s 3ms/step - loss: 0.4179 - accuracy: 0.8231 - val_loss: 0.4229 - val_accuracy: 0.8175\n",
      "Epoch 30/50\n",
      "200/200 [==============================] - 1s 3ms/step - loss: 0.4173 - accuracy: 0.8241 - val_loss: 0.4224 - val_accuracy: 0.8175\n",
      "Epoch 31/50\n",
      "200/200 [==============================] - 1s 3ms/step - loss: 0.4167 - accuracy: 0.8253 - val_loss: 0.4218 - val_accuracy: 0.8169\n",
      "Epoch 32/50\n",
      "200/200 [==============================] - 1s 3ms/step - loss: 0.4162 - accuracy: 0.8266 - val_loss: 0.4212 - val_accuracy: 0.8188\n",
      "Epoch 33/50\n",
      "200/200 [==============================] - 1s 3ms/step - loss: 0.4156 - accuracy: 0.8270 - val_loss: 0.4207 - val_accuracy: 0.8188\n",
      "Epoch 34/50\n",
      "200/200 [==============================] - 1s 3ms/step - loss: 0.4151 - accuracy: 0.8267 - val_loss: 0.4202 - val_accuracy: 0.8194\n",
      "Epoch 35/50\n",
      "200/200 [==============================] - 1s 3ms/step - loss: 0.4146 - accuracy: 0.8269 - val_loss: 0.4197 - val_accuracy: 0.8200\n",
      "Epoch 36/50\n",
      "200/200 [==============================] - 1s 3ms/step - loss: 0.4141 - accuracy: 0.8281 - val_loss: 0.4192 - val_accuracy: 0.8200\n",
      "Epoch 37/50\n",
      "200/200 [==============================] - 1s 3ms/step - loss: 0.4137 - accuracy: 0.8292 - val_loss: 0.4187 - val_accuracy: 0.8213\n",
      "Epoch 38/50\n",
      "200/200 [==============================] - 1s 3ms/step - loss: 0.4133 - accuracy: 0.8297 - val_loss: 0.4184 - val_accuracy: 0.8213\n",
      "Epoch 39/50\n",
      "200/200 [==============================] - 1s 3ms/step - loss: 0.4129 - accuracy: 0.8309 - val_loss: 0.4180 - val_accuracy: 0.8225\n",
      "Epoch 40/50\n",
      "200/200 [==============================] - 1s 3ms/step - loss: 0.4125 - accuracy: 0.8317 - val_loss: 0.4176 - val_accuracy: 0.8225\n",
      "Epoch 41/50\n",
      "200/200 [==============================] - 1s 3ms/step - loss: 0.4121 - accuracy: 0.8322 - val_loss: 0.4173 - val_accuracy: 0.8213\n",
      "Epoch 42/50\n",
      "200/200 [==============================] - 1s 3ms/step - loss: 0.4118 - accuracy: 0.8327 - val_loss: 0.4170 - val_accuracy: 0.8213\n",
      "Epoch 43/50\n",
      "200/200 [==============================] - 1s 3ms/step - loss: 0.4114 - accuracy: 0.8338 - val_loss: 0.4167 - val_accuracy: 0.8213\n",
      "Epoch 44/50\n",
      "200/200 [==============================] - 1s 3ms/step - loss: 0.4111 - accuracy: 0.8345 - val_loss: 0.4165 - val_accuracy: 0.8213\n",
      "Epoch 45/50\n",
      "200/200 [==============================] - 1s 3ms/step - loss: 0.4108 - accuracy: 0.8339 - val_loss: 0.4161 - val_accuracy: 0.8219\n",
      "Epoch 46/50\n",
      "200/200 [==============================] - 1s 3ms/step - loss: 0.4105 - accuracy: 0.8344 - val_loss: 0.4159 - val_accuracy: 0.8213\n",
      "Epoch 47/50\n",
      "200/200 [==============================] - 1s 3ms/step - loss: 0.4102 - accuracy: 0.8358 - val_loss: 0.4157 - val_accuracy: 0.8213\n",
      "Epoch 48/50\n",
      "200/200 [==============================] - 1s 3ms/step - loss: 0.4100 - accuracy: 0.8361 - val_loss: 0.4155 - val_accuracy: 0.8219\n",
      "Epoch 49/50\n",
      "200/200 [==============================] - 1s 3ms/step - loss: 0.4098 - accuracy: 0.8361 - val_loss: 0.4153 - val_accuracy: 0.8219\n",
      "Epoch 50/50\n",
      "200/200 [==============================] - 1s 3ms/step - loss: 0.4095 - accuracy: 0.8361 - val_loss: 0.4151 - val_accuracy: 0.8225\n"
     ]
    }
   ],
   "source": [
    "history=model.fit(x_train_scaled,y_train,epochs=50,validation_split=.2)"
   ]
  },
  {
   "cell_type": "code",
   "execution_count": 20,
   "id": "327281b9",
   "metadata": {
    "execution": {
     "iopub.execute_input": "2023-04-23T10:22:16.940282Z",
     "iopub.status.busy": "2023-04-23T10:22:16.939960Z",
     "iopub.status.idle": "2023-04-23T10:22:16.951258Z",
     "shell.execute_reply": "2023-04-23T10:22:16.950238Z"
    },
    "papermill": {
     "duration": 0.050947,
     "end_time": "2023-04-23T10:22:16.953616",
     "exception": false,
     "start_time": "2023-04-23T10:22:16.902669",
     "status": "completed"
    },
    "tags": []
   },
   "outputs": [
    {
     "data": {
      "text/plain": [
       "[array([[ 1.52128786e-01,  2.94217259e-01, -7.42288604e-02],\n",
       "        [-3.91717887e+00, -1.03426015e+00, -2.17234626e-01],\n",
       "        [-5.16231097e-02,  1.33972302e-01,  1.38379604e-01],\n",
       "        [ 4.50509861e-02, -4.57867444e-01, -4.41860557e-01],\n",
       "        [-2.12203269e-03,  5.74177727e-02,  1.23387806e-01],\n",
       "        [-1.49331167e-01,  4.21970934e-01,  2.75234822e-02],\n",
       "        [-5.00844181e-01,  8.39010775e-01,  1.73717582e+00],\n",
       "        [ 2.02323109e-01, -3.02356660e-01, -1.46778271e-01],\n",
       "        [-1.99649453e-01, -9.71692979e-01, -7.16428816e-01],\n",
       "        [-1.05862647e-01,  9.72167924e-02, -1.07824862e-01],\n",
       "        [ 2.89906412e-02,  8.44981134e-01,  5.61459184e-01]], dtype=float32),\n",
       " array([0.64898527, 0.05092451, 0.3892393 ], dtype=float32)]"
      ]
     },
     "execution_count": 20,
     "metadata": {},
     "output_type": "execute_result"
    }
   ],
   "source": [
    "model.layers[0].get_weights()"
   ]
  },
  {
   "cell_type": "code",
   "execution_count": 21,
   "id": "cbebe2d8",
   "metadata": {
    "execution": {
     "iopub.execute_input": "2023-04-23T10:22:17.027069Z",
     "iopub.status.busy": "2023-04-23T10:22:17.026791Z",
     "iopub.status.idle": "2023-04-23T10:22:17.037083Z",
     "shell.execute_reply": "2023-04-23T10:22:17.036033Z"
    },
    "papermill": {
     "duration": 0.049872,
     "end_time": "2023-04-23T10:22:17.039497",
     "exception": false,
     "start_time": "2023-04-23T10:22:16.989625",
     "status": "completed"
    },
    "tags": []
   },
   "outputs": [
    {
     "data": {
      "text/plain": [
       "[array([[-1.8249133],\n",
       "        [-0.8446672],\n",
       "        [-1.47194  ]], dtype=float32),\n",
       " array([0.67144966], dtype=float32)]"
      ]
     },
     "execution_count": 21,
     "metadata": {},
     "output_type": "execute_result"
    }
   ],
   "source": [
    "model.layers[1].get_weights()"
   ]
  },
  {
   "cell_type": "code",
   "execution_count": 22,
   "id": "918bb376",
   "metadata": {
    "execution": {
     "iopub.execute_input": "2023-04-23T10:22:17.112138Z",
     "iopub.status.busy": "2023-04-23T10:22:17.111870Z",
     "iopub.status.idle": "2023-04-23T10:22:17.374091Z",
     "shell.execute_reply": "2023-04-23T10:22:17.373091Z"
    },
    "papermill": {
     "duration": 0.301198,
     "end_time": "2023-04-23T10:22:17.376337",
     "exception": false,
     "start_time": "2023-04-23T10:22:17.075139",
     "status": "completed"
    },
    "tags": []
   },
   "outputs": [
    {
     "name": "stdout",
     "output_type": "stream",
     "text": [
      "63/63 [==============================] - 0s 1ms/step\n"
     ]
    }
   ],
   "source": [
    "y_log=model.predict(x_test_scaled)"
   ]
  },
  {
   "cell_type": "code",
   "execution_count": 23,
   "id": "7409be65",
   "metadata": {
    "execution": {
     "iopub.execute_input": "2023-04-23T10:22:17.450713Z",
     "iopub.status.busy": "2023-04-23T10:22:17.450369Z",
     "iopub.status.idle": "2023-04-23T10:22:17.458465Z",
     "shell.execute_reply": "2023-04-23T10:22:17.457452Z"
    },
    "papermill": {
     "duration": 0.04809,
     "end_time": "2023-04-23T10:22:17.460763",
     "exception": false,
     "start_time": "2023-04-23T10:22:17.412673",
     "status": "completed"
    },
    "tags": []
   },
   "outputs": [
    {
     "data": {
      "text/plain": [
       "array([[0],\n",
       "       [0],\n",
       "       [0],\n",
       "       ...,\n",
       "       [0],\n",
       "       [0],\n",
       "       [0]])"
      ]
     },
     "execution_count": 23,
     "metadata": {},
     "output_type": "execute_result"
    }
   ],
   "source": [
    "y_pred=np.where(y_log >0.5,1,0)\n",
    "y_pred"
   ]
  },
  {
   "cell_type": "code",
   "execution_count": 24,
   "id": "a67d6d29",
   "metadata": {
    "execution": {
     "iopub.execute_input": "2023-04-23T10:22:17.537395Z",
     "iopub.status.busy": "2023-04-23T10:22:17.537110Z",
     "iopub.status.idle": "2023-04-23T10:22:17.541495Z",
     "shell.execute_reply": "2023-04-23T10:22:17.540442Z"
    },
    "papermill": {
     "duration": 0.043974,
     "end_time": "2023-04-23T10:22:17.543764",
     "exception": false,
     "start_time": "2023-04-23T10:22:17.499790",
     "status": "completed"
    },
    "tags": []
   },
   "outputs": [],
   "source": [
    "from sklearn.metrics import accuracy_score\n",
    "accuracy_score =(y_test,y_pred)"
   ]
  },
  {
   "cell_type": "code",
   "execution_count": null,
   "id": "a0e43fca",
   "metadata": {
    "papermill": {
     "duration": 0.035643,
     "end_time": "2023-04-23T10:22:17.615548",
     "exception": false,
     "start_time": "2023-04-23T10:22:17.579905",
     "status": "completed"
    },
    "tags": []
   },
   "outputs": [],
   "source": []
  },
  {
   "cell_type": "code",
   "execution_count": 25,
   "id": "cd00f1b6",
   "metadata": {
    "execution": {
     "iopub.execute_input": "2023-04-23T10:22:17.689030Z",
     "iopub.status.busy": "2023-04-23T10:22:17.688755Z",
     "iopub.status.idle": "2023-04-23T10:22:17.696393Z",
     "shell.execute_reply": "2023-04-23T10:22:17.695468Z"
    },
    "papermill": {
     "duration": 0.04685,
     "end_time": "2023-04-23T10:22:17.698778",
     "exception": false,
     "start_time": "2023-04-23T10:22:17.651928",
     "status": "completed"
    },
    "tags": []
   },
   "outputs": [
    {
     "data": {
      "text/plain": [
       "{'loss': [0.5655386447906494,\n",
       "  0.5099766254425049,\n",
       "  0.4831206500530243,\n",
       "  0.4689978063106537,\n",
       "  0.4597284197807312,\n",
       "  0.45275238156318665,\n",
       "  0.4472201466560364,\n",
       "  0.44274693727493286,\n",
       "  0.43907079100608826,\n",
       "  0.4360430836677551,\n",
       "  0.4335744082927704,\n",
       "  0.4314730167388916,\n",
       "  0.42980891466140747,\n",
       "  0.42836615443229675,\n",
       "  0.427217572927475,\n",
       "  0.42624300718307495,\n",
       "  0.4253779649734497,\n",
       "  0.42464134097099304,\n",
       "  0.423921138048172,\n",
       "  0.4232737421989441,\n",
       "  0.4226571321487427,\n",
       "  0.4220314919948578,\n",
       "  0.4214611053466797,\n",
       "  0.4208759069442749,\n",
       "  0.42023712396621704,\n",
       "  0.4196411371231079,\n",
       "  0.41903916001319885,\n",
       "  0.41845571994781494,\n",
       "  0.417862206697464,\n",
       "  0.41729506850242615,\n",
       "  0.41673991084098816,\n",
       "  0.41619986295700073,\n",
       "  0.41563746333122253,\n",
       "  0.4151493012905121,\n",
       "  0.4146082401275635,\n",
       "  0.41413265466690063,\n",
       "  0.4136834740638733,\n",
       "  0.41328665614128113,\n",
       "  0.41286391019821167,\n",
       "  0.4124794006347656,\n",
       "  0.4121088683605194,\n",
       "  0.41175857186317444,\n",
       "  0.41137513518333435,\n",
       "  0.4110689163208008,\n",
       "  0.4108366370201111,\n",
       "  0.41051623225212097,\n",
       "  0.4102323055267334,\n",
       "  0.4099961817264557,\n",
       "  0.4097837209701538,\n",
       "  0.40951889753341675],\n",
       " 'accuracy': [0.7971875071525574,\n",
       "  0.7971875071525574,\n",
       "  0.7971875071525574,\n",
       "  0.7971875071525574,\n",
       "  0.7971875071525574,\n",
       "  0.7971875071525574,\n",
       "  0.7971875071525574,\n",
       "  0.7971875071525574,\n",
       "  0.7971875071525574,\n",
       "  0.7971875071525574,\n",
       "  0.7971875071525574,\n",
       "  0.7971875071525574,\n",
       "  0.7971875071525574,\n",
       "  0.7971875071525574,\n",
       "  0.7973437309265137,\n",
       "  0.800000011920929,\n",
       "  0.8032812476158142,\n",
       "  0.8056250214576721,\n",
       "  0.8090624809265137,\n",
       "  0.809374988079071,\n",
       "  0.8137500286102295,\n",
       "  0.8142187595367432,\n",
       "  0.8149999976158142,\n",
       "  0.8159375190734863,\n",
       "  0.8190624713897705,\n",
       "  0.8204687237739563,\n",
       "  0.8209375143051147,\n",
       "  0.821093738079071,\n",
       "  0.8231250047683716,\n",
       "  0.8240625262260437,\n",
       "  0.8253124952316284,\n",
       "  0.8265625238418579,\n",
       "  0.8270312547683716,\n",
       "  0.8267187476158142,\n",
       "  0.8268749713897705,\n",
       "  0.828125,\n",
       "  0.8292187452316284,\n",
       "  0.8296874761581421,\n",
       "  0.8309375047683716,\n",
       "  0.8317187428474426,\n",
       "  0.8321874737739563,\n",
       "  0.8326562643051147,\n",
       "  0.8337500095367432,\n",
       "  0.8345312476158142,\n",
       "  0.8339062333106995,\n",
       "  0.8343750238418579,\n",
       "  0.8357812762260437,\n",
       "  0.8360937237739563,\n",
       "  0.8360937237739563,\n",
       "  0.8360937237739563],\n",
       " 'val_loss': [0.5293046832084656,\n",
       "  0.4937305748462677,\n",
       "  0.4761396050453186,\n",
       "  0.46605217456817627,\n",
       "  0.45888379216194153,\n",
       "  0.45323795080184937,\n",
       "  0.44853752851486206,\n",
       "  0.44487613439559937,\n",
       "  0.44180992245674133,\n",
       "  0.43916642665863037,\n",
       "  0.43703410029411316,\n",
       "  0.43525615334510803,\n",
       "  0.4338800311088562,\n",
       "  0.43252599239349365,\n",
       "  0.4314841330051422,\n",
       "  0.4306829571723938,\n",
       "  0.4298958480358124,\n",
       "  0.42923256754875183,\n",
       "  0.4285642206668854,\n",
       "  0.4280693829059601,\n",
       "  0.4275711178779602,\n",
       "  0.42695170640945435,\n",
       "  0.42645955085754395,\n",
       "  0.42584267258644104,\n",
       "  0.425223171710968,\n",
       "  0.42467400431632996,\n",
       "  0.4240829348564148,\n",
       "  0.4234267473220825,\n",
       "  0.42286261916160583,\n",
       "  0.4223541021347046,\n",
       "  0.4217934310436249,\n",
       "  0.4211856424808502,\n",
       "  0.4206768870353699,\n",
       "  0.42017650604248047,\n",
       "  0.4196503460407257,\n",
       "  0.4191860556602478,\n",
       "  0.41873109340667725,\n",
       "  0.4183608889579773,\n",
       "  0.4179594814777374,\n",
       "  0.41764840483665466,\n",
       "  0.417322039604187,\n",
       "  0.4169999659061432,\n",
       "  0.4166747033596039,\n",
       "  0.4164523184299469,\n",
       "  0.41614678502082825,\n",
       "  0.41593092679977417,\n",
       "  0.41573596000671387,\n",
       "  0.41552117466926575,\n",
       "  0.41534408926963806,\n",
       "  0.4151087701320648],\n",
       " 'val_accuracy': [0.7975000143051147,\n",
       "  0.7975000143051147,\n",
       "  0.7975000143051147,\n",
       "  0.7975000143051147,\n",
       "  0.7975000143051147,\n",
       "  0.7975000143051147,\n",
       "  0.7975000143051147,\n",
       "  0.7975000143051147,\n",
       "  0.7975000143051147,\n",
       "  0.7975000143051147,\n",
       "  0.7975000143051147,\n",
       "  0.7975000143051147,\n",
       "  0.7975000143051147,\n",
       "  0.7975000143051147,\n",
       "  0.7993749976158142,\n",
       "  0.8050000071525574,\n",
       "  0.8050000071525574,\n",
       "  0.8075000047683716,\n",
       "  0.809374988079071,\n",
       "  0.8100000023841858,\n",
       "  0.8106250166893005,\n",
       "  0.8125,\n",
       "  0.8125,\n",
       "  0.8137500286102295,\n",
       "  0.8143749833106995,\n",
       "  0.8143749833106995,\n",
       "  0.8137500286102295,\n",
       "  0.8149999976158142,\n",
       "  0.8174999952316284,\n",
       "  0.8174999952316284,\n",
       "  0.8168749809265137,\n",
       "  0.8187500238418579,\n",
       "  0.8187500238418579,\n",
       "  0.8193749785423279,\n",
       "  0.8199999928474426,\n",
       "  0.8199999928474426,\n",
       "  0.8212500214576721,\n",
       "  0.8212500214576721,\n",
       "  0.8224999904632568,\n",
       "  0.8224999904632568,\n",
       "  0.8212500214576721,\n",
       "  0.8212500214576721,\n",
       "  0.8212500214576721,\n",
       "  0.8212500214576721,\n",
       "  0.8218749761581421,\n",
       "  0.8212500214576721,\n",
       "  0.8212500214576721,\n",
       "  0.8218749761581421,\n",
       "  0.8218749761581421,\n",
       "  0.8224999904632568]}"
      ]
     },
     "execution_count": 25,
     "metadata": {},
     "output_type": "execute_result"
    }
   ],
   "source": [
    "history.history"
   ]
  },
  {
   "cell_type": "code",
   "execution_count": 26,
   "id": "2c311d98",
   "metadata": {
    "execution": {
     "iopub.execute_input": "2023-04-23T10:22:17.773324Z",
     "iopub.status.busy": "2023-04-23T10:22:17.773059Z",
     "iopub.status.idle": "2023-04-23T10:22:18.054473Z",
     "shell.execute_reply": "2023-04-23T10:22:18.053352Z"
    },
    "papermill": {
     "duration": 0.321538,
     "end_time": "2023-04-23T10:22:18.056602",
     "exception": false,
     "start_time": "2023-04-23T10:22:17.735064",
     "status": "completed"
    },
    "tags": []
   },
   "outputs": [
    {
     "data": {
      "text/plain": [
       "(0.0, 1.0)"
      ]
     },
     "execution_count": 26,
     "metadata": {},
     "output_type": "execute_result"
    },
    {
     "data": {
      "image/png": "[encoded data removed]",
      "text/plain": [
       "<Figure size 800x500 with 1 Axes>"
      ]
     },
     "metadata": {},
     "output_type": "display_data"
    }
   ],
   "source": [
    "import matplotlib.pyplot as plt\n",
    "\n",
    "pd.DataFrame(history.history).plot(figsize=(8,5))\n",
    "plt.grid(True)\n",
    "plt.gca().set_ylim(0,1)\n",
    "     "
   ]
  },
  {
   "cell_type": "code",
   "execution_count": 27,
   "id": "b693dfa3",
   "metadata": {
    "execution": {
     "iopub.execute_input": "2023-04-23T10:22:18.131937Z",
     "iopub.status.busy": "2023-04-23T10:22:18.131647Z",
     "iopub.status.idle": "2023-04-23T10:22:18.338011Z",
     "shell.execute_reply": "2023-04-23T10:22:18.337129Z"
    },
    "papermill": {
     "duration": 0.246999,
     "end_time": "2023-04-23T10:22:18.340443",
     "exception": false,
     "start_time": "2023-04-23T10:22:18.093444",
     "status": "completed"
    },
    "tags": []
   },
   "outputs": [
    {
     "data": {
      "text/plain": [
       "[<matplotlib.lines.Line2D at 0x7cf7c1e67050>]"
      ]
     },
     "execution_count": 27,
     "metadata": {},
     "output_type": "execute_result"
    },
    {
     "data": {
      "image/png": "[encoded data removed]",
      "text/plain": [
       "<Figure size 640x480 with 1 Axes>"
      ]
     },
     "metadata": {},
     "output_type": "display_data"
    }
   ],
   "source": [
    "plt.plot(history.history['loss'])\n",
    "plt.plot(history.history['val_loss'])"
   ]
  },
  {
   "cell_type": "code",
   "execution_count": 28,
   "id": "d48597ea",
   "metadata": {
    "execution": {
     "iopub.execute_input": "2023-04-23T10:22:18.416306Z",
     "iopub.status.busy": "2023-04-23T10:22:18.416024Z",
     "iopub.status.idle": "2023-04-23T10:22:18.706635Z",
     "shell.execute_reply": "2023-04-23T10:22:18.705361Z"
    },
    "papermill": {
     "duration": 0.331127,
     "end_time": "2023-04-23T10:22:18.708851",
     "exception": false,
     "start_time": "2023-04-23T10:22:18.377724",
     "status": "completed"
    },
    "tags": []
   },
   "outputs": [
    {
     "data": {
      "text/plain": [
       "[<matplotlib.lines.Line2D at 0x7cf7c1df2210>]"
      ]
     },
     "execution_count": 28,
     "metadata": {},
     "output_type": "execute_result"
    },
    {
     "data": {
      "image/png": "[encoded data removed]",
      "text/plain": [
       "<Figure size 640x480 with 1 Axes>"
      ]
     },
     "metadata": {},
     "output_type": "display_data"
    }
   ],
   "source": [
    "plt.plot(history.history['accuracy'])\n",
    "plt.plot(history.history['val_accuracy'])"
   ]
  },
  {
   "cell_type": "code",
   "execution_count": null,
   "id": "67a21616",
   "metadata": {
    "papermill": {
     "duration": 0.038187,
     "end_time": "2023-04-23T10:22:18.784930",
     "exception": false,
     "start_time": "2023-04-23T10:22:18.746743",
     "status": "completed"
    },
    "tags": []
   },
   "outputs": [],
   "source": []
  }
 ],
 "metadata": {
  "kernelspec": {
   "display_name": "Python 3",
   "language": "python",
   "name": "python3"
  },
  "language_info": {
   "codemirror_mode": {
    "name": "ipython",
    "version": 3
   },
   "file_extension": ".py",
   "mimetype": "text/x-python",
   "name": "python",
   "nbconvert_exporter": "python",
   "pygments_lexer": "ipython3",
   "version": "3.7.12"
  },
  "papermill": {
   "default_parameters": {},
   "duration": 66.815529,
   "end_time": "2023-04-23T10:22:21.776747",
   "environment_variables": {},
   "exception": null,
   "input_path": "__notebook__.ipynb",
   "output_path": "__notebook__.ipynb",
   "parameters": {},
   "start_time": "2023-04-23T10:21:14.961218",
   "version": "2.4.0"
  }
 },
 "nbformat": 4,
 "nbformat_minor": 5
}
